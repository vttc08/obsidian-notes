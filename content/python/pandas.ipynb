{
 "cells": [
  {
   "cell_type": "markdown",
   "metadata": {},
   "source": [
    "### Working with Pandas"
   ]
  },
  {
   "cell_type": "markdown",
   "metadata": {},
   "source": [
    "content of the csv file (file.csv) is as follows:\n",
    "```\n",
    "name,city,happiness(0-10),height(cm),weight(kg)\n",
    "John,Kolkata,7,182,72.2\n",
    "Michael,Delhi,6,168,65.8\n",
    "David,Mumbai,8,163,59.9\n",
    "Sarah,Chennai,9,155,52.7\n",
    "Daniel,Kolkata,7,179,71.1\n",
    "Emily,Delhi,6,172,66.3\n",
    "Olivia,Mumbai,8,158,61.7\n",
    "Ethan,Chennai,9,147,48.9\n",
    "Sophia,Kolkata,7,183,73.5\n",
    "Matthew,Delhi,6,169,66.9\n",
    "Karen,Mumbai,8,161,59.1\n",
    "James,Chennai,9,152,51.3\n",
    "Zoe,Kolkata,7,177,70.8\n",
    "Logan,Delhi,6,173,65.1\n",
    "Hannah,Mumbai,8,159,61.3\n",
    "Liam,Chennai,9,148,49.8\n",
    "Emma,Kolkata,7,181,72.7\n",
    "Ava,Delhi,6,170,66.1\n",
    "Noah,Mumbai,8,162,60.3\n",
    "Mia,Chennai,9,153,52.5\n",
    "Benjamin,Kolkata,7,178,70.1\n",
    "Aria,Delhi,6,171,65.5\n",
    "William,Mumbai,8,160,59.7\n",
    "Grace,Chennai,9,150,50.1\n",
    "\n",
    "```"
   ]
  },
  {
   "cell_type": "code",
   "execution_count": 56,
   "metadata": {},
   "outputs": [],
   "source": [
    "# read csv file\n",
    "import pandas as pd\n",
    "\n",
    "df = pd.read_csv('file.csv')"
   ]
  },
  {
   "cell_type": "code",
   "execution_count": 57,
   "metadata": {},
   "outputs": [
    {
     "data": {
      "text/plain": [
       "0    Kolkata\n",
       "1      Delhi\n",
       "2     Mumbai\n",
       "3    Chennai\n",
       "4    Kolkata\n",
       "Name: city, dtype: object"
      ]
     },
     "execution_count": 57,
     "metadata": {},
     "output_type": "execute_result"
    }
   ],
   "source": [
    "# access a column of data\n",
    "df['city'].head() # head is used to display the first 5 rows"
   ]
  },
  {
   "cell_type": "code",
   "execution_count": 58,
   "metadata": {},
   "outputs": [
    {
     "data": {
      "text/html": [
       "<div>\n",
       "<style scoped>\n",
       "    .dataframe tbody tr th:only-of-type {\n",
       "        vertical-align: middle;\n",
       "    }\n",
       "\n",
       "    .dataframe tbody tr th {\n",
       "        vertical-align: top;\n",
       "    }\n",
       "\n",
       "    .dataframe thead th {\n",
       "        text-align: right;\n",
       "    }\n",
       "</style>\n",
       "<table border=\"1\" class=\"dataframe\">\n",
       "  <thead>\n",
       "    <tr style=\"text-align: right;\">\n",
       "      <th></th>\n",
       "      <th>name</th>\n",
       "      <th>city</th>\n",
       "    </tr>\n",
       "  </thead>\n",
       "  <tbody>\n",
       "    <tr>\n",
       "      <th>0</th>\n",
       "      <td>John</td>\n",
       "      <td>Kolkata</td>\n",
       "    </tr>\n",
       "    <tr>\n",
       "      <th>1</th>\n",
       "      <td>Michael</td>\n",
       "      <td>Delhi</td>\n",
       "    </tr>\n",
       "    <tr>\n",
       "      <th>2</th>\n",
       "      <td>David</td>\n",
       "      <td>Mumbai</td>\n",
       "    </tr>\n",
       "    <tr>\n",
       "      <th>3</th>\n",
       "      <td>Sarah</td>\n",
       "      <td>Chennai</td>\n",
       "    </tr>\n",
       "    <tr>\n",
       "      <th>4</th>\n",
       "      <td>Daniel</td>\n",
       "      <td>Kolkata</td>\n",
       "    </tr>\n",
       "  </tbody>\n",
       "</table>\n",
       "</div>"
      ],
      "text/plain": [
       "      name     city\n",
       "0     John  Kolkata\n",
       "1  Michael    Delhi\n",
       "2    David   Mumbai\n",
       "3    Sarah  Chennai\n",
       "4   Daniel  Kolkata"
      ]
     },
     "execution_count": 58,
     "metadata": {},
     "output_type": "execute_result"
    }
   ],
   "source": [
    "# access multiple column of data\n",
    "df[['name', 'city']].head()"
   ]
  },
  {
   "cell_type": "markdown",
   "metadata": {},
   "source": [
    "**iloc vs loc**\n",
    "- iloc is used to access rows and columns by integer index -eg. 0\n",
    "- loc is used to access rows and columns by label -eg. city"
   ]
  },
  {
   "cell_type": "code",
   "execution_count": 59,
   "metadata": {},
   "outputs": [
    {
     "data": {
      "text/plain": [
       "name                  John\n",
       "city               Kolkata\n",
       "happiness(0-10)          7\n",
       "height(cm)             182\n",
       "weight(kg)            72.2\n",
       "Name: 0, dtype: object"
      ]
     },
     "execution_count": 59,
     "metadata": {},
     "output_type": "execute_result"
    }
   ],
   "source": [
    "# access a row of data\n",
    "df.iloc[0] # access the first row"
   ]
  },
  {
   "cell_type": "code",
   "execution_count": 60,
   "metadata": {},
   "outputs": [
    {
     "data": {
      "text/html": [
       "<div>\n",
       "<style scoped>\n",
       "    .dataframe tbody tr th:only-of-type {\n",
       "        vertical-align: middle;\n",
       "    }\n",
       "\n",
       "    .dataframe tbody tr th {\n",
       "        vertical-align: top;\n",
       "    }\n",
       "\n",
       "    .dataframe thead th {\n",
       "        text-align: right;\n",
       "    }\n",
       "</style>\n",
       "<table border=\"1\" class=\"dataframe\">\n",
       "  <thead>\n",
       "    <tr style=\"text-align: right;\">\n",
       "      <th></th>\n",
       "      <th>name</th>\n",
       "      <th>city</th>\n",
       "      <th>happiness(0-10)</th>\n",
       "      <th>height(cm)</th>\n",
       "      <th>weight(kg)</th>\n",
       "    </tr>\n",
       "  </thead>\n",
       "  <tbody>\n",
       "    <tr>\n",
       "      <th>0</th>\n",
       "      <td>John</td>\n",
       "      <td>Kolkata</td>\n",
       "      <td>7</td>\n",
       "      <td>182</td>\n",
       "      <td>72.2</td>\n",
       "    </tr>\n",
       "    <tr>\n",
       "      <th>1</th>\n",
       "      <td>Michael</td>\n",
       "      <td>Delhi</td>\n",
       "      <td>6</td>\n",
       "      <td>168</td>\n",
       "      <td>65.8</td>\n",
       "    </tr>\n",
       "  </tbody>\n",
       "</table>\n",
       "</div>"
      ],
      "text/plain": [
       "      name     city  happiness(0-10)  height(cm)  weight(kg)\n",
       "0     John  Kolkata                7         182        72.2\n",
       "1  Michael    Delhi                6         168        65.8"
      ]
     },
     "execution_count": 60,
     "metadata": {},
     "output_type": "execute_result"
    }
   ],
   "source": [
    "# Access multiple rows\n",
    "df.iloc[0:2] # access the first 5 rows"
   ]
  },
  {
   "cell_type": "code",
   "execution_count": 61,
   "metadata": {},
   "outputs": [
    {
     "data": {
      "text/plain": [
       "'Kolkata'"
      ]
     },
     "execution_count": 61,
     "metadata": {},
     "output_type": "execute_result"
    }
   ],
   "source": [
    "# Access a specific cell\n",
    "df.loc[0, 'city'] # the city of the first row"
   ]
  },
  {
   "cell_type": "code",
   "execution_count": 62,
   "metadata": {},
   "outputs": [
    {
     "data": {
      "text/html": [
       "<div>\n",
       "<style scoped>\n",
       "    .dataframe tbody tr th:only-of-type {\n",
       "        vertical-align: middle;\n",
       "    }\n",
       "\n",
       "    .dataframe tbody tr th {\n",
       "        vertical-align: top;\n",
       "    }\n",
       "\n",
       "    .dataframe thead th {\n",
       "        text-align: right;\n",
       "    }\n",
       "</style>\n",
       "<table border=\"1\" class=\"dataframe\">\n",
       "  <thead>\n",
       "    <tr style=\"text-align: right;\">\n",
       "      <th></th>\n",
       "      <th>name</th>\n",
       "      <th>city</th>\n",
       "    </tr>\n",
       "  </thead>\n",
       "  <tbody>\n",
       "    <tr>\n",
       "      <th>0</th>\n",
       "      <td>John</td>\n",
       "      <td>Kolkata</td>\n",
       "    </tr>\n",
       "    <tr>\n",
       "      <th>1</th>\n",
       "      <td>Michael</td>\n",
       "      <td>Delhi</td>\n",
       "    </tr>\n",
       "    <tr>\n",
       "      <th>2</th>\n",
       "      <td>David</td>\n",
       "      <td>Mumbai</td>\n",
       "    </tr>\n",
       "  </tbody>\n",
       "</table>\n",
       "</div>"
      ],
      "text/plain": [
       "      name     city\n",
       "0     John  Kolkata\n",
       "1  Michael    Delhi\n",
       "2    David   Mumbai"
      ]
     },
     "execution_count": 62,
     "metadata": {},
     "output_type": "execute_result"
    }
   ],
   "source": [
    "# Access multiple cells\n",
    "df.loc[0:2, ['name', 'city']] # the name and city of the first 3 rows"
   ]
  },
  {
   "cell_type": "code",
   "execution_count": 63,
   "metadata": {},
   "outputs": [
    {
     "data": {
      "text/plain": [
       "(      name     city  happiness(0-10)  height(cm)  weight(kg)\n",
       " 0     John  Kolkata                7         182        72.2\n",
       " 1  Michael    Delhi                6         168        65.8\n",
       " 2    David   Mumbai                8         163        59.9\n",
       " 4   Daniel  Kolkata                7         179        71.1\n",
       " 5    Emily    Delhi                6         172        66.3,\n",
       "       name     city  happiness(0-10)  height(cm)  weight(kg)\n",
       " 0     John  Kolkata                7         182        72.2\n",
       " 4   Daniel  Kolkata                7         179        71.1\n",
       " 8   Sophia  Kolkata                7         183        73.5\n",
       " 12     Zoe  Kolkata                7         177        70.8\n",
       " 16    Emma  Kolkata                7         181        72.7)"
      ]
     },
     "execution_count": 63,
     "metadata": {},
     "output_type": "execute_result"
    }
   ],
   "source": [
    "# Select rows based on a condition\n",
    "new_df = df[df['height(cm)'] > 155].head() # select rows where age is greater than 25\n",
    "new_df_2 = df[df['city']=='Kolkata'].head() # select rows where city is Kolkata\n",
    "new_df, new_df_2"
   ]
  },
  {
   "cell_type": "code",
   "execution_count": 64,
   "metadata": {},
   "outputs": [
    {
     "data": {
      "text/plain": [
       "(      name     city  happiness(0-10)  height(cm)  weight(kg)\n",
       " 1  Michael    Delhi                6         168        65.8\n",
       " 2    David   Mumbai                8         163        59.9\n",
       " 3    Sarah  Chennai                9         155        52.7\n",
       " 5    Emily    Delhi                6         172        66.3\n",
       " 6   Olivia   Mumbai                8         158        61.7,\n",
       "      name     city  happiness(0-10)  height(cm)  weight(kg)\n",
       " 0    John  Kolkata                7         182        72.2\n",
       " 2   David   Mumbai                8         163        59.9\n",
       " 4  Daniel  Kolkata                7         179        71.1\n",
       " 6  Olivia   Mumbai                8         158        61.7\n",
       " 8  Sophia  Kolkata                7         183        73.5)"
      ]
     },
     "execution_count": 64,
     "metadata": {},
     "output_type": "execute_result"
    }
   ],
   "source": [
    "# select row based on multiple conditions\n",
    "new_df_3 = df[(df['height(cm)'] >= 155) & (df['height(cm)'] < 175)].head() # selecting a value between 2 numbers is considered as a multiple condition\n",
    "new_df_4 = df[(df['city']=='Kolkata') | (df['city']=='Mumbai')].head() # using the or operator\n",
    "new_df_3, new_df_4"
   ]
  },
  {
   "cell_type": "code",
   "execution_count": 65,
   "metadata": {},
   "outputs": [
    {
     "data": {
      "text/plain": [
       "array(['Kolkata', 'Delhi', 'Mumbai', 'Chennai'], dtype=object)"
      ]
     },
     "execution_count": 65,
     "metadata": {},
     "output_type": "execute_result"
    }
   ],
   "source": [
    "# get the unique values of a column\n",
    "df['city'].unique()"
   ]
  },
  {
   "cell_type": "code",
   "execution_count": 66,
   "metadata": {},
   "outputs": [
    {
     "data": {
      "text/plain": [
       "0       John\n",
       "1    Michael\n",
       "2      David\n",
       "3      Sarah\n",
       "4     Daniel\n",
       "Name: name, dtype: object"
      ]
     },
     "execution_count": 66,
     "metadata": {},
     "output_type": "execute_result"
    }
   ],
   "source": [
    "# 2d dataframe array can be converted into a python dictionary\n",
    "dict(df.head())\n",
    "dict(df.head())['name']"
   ]
  },
  {
   "cell_type": "code",
   "execution_count": 67,
   "metadata": {},
   "outputs": [
    {
     "data": {
      "text/plain": [
       "{'name': 'John',\n",
       " 'city': 'Kolkata',\n",
       " 'happiness(0-10)': 7,\n",
       " 'height(cm)': 182,\n",
       " 'weight(kg)': 72.2}"
      ]
     },
     "execution_count": 67,
     "metadata": {},
     "output_type": "execute_result"
    }
   ],
   "source": [
    "# 1d dataframe array (eg. a column, row) can be converted into a python list or a dictionary\n",
    "list(df['name'].head()) # column list\n",
    "list(df.iloc[0]) # row list\n",
    "dict(df.iloc[0])"
   ]
  }
 ],
 "metadata": {
  "kernelspec": {
   "display_name": "Python 3",
   "language": "python",
   "name": "python3"
  },
  "language_info": {
   "codemirror_mode": {
    "name": "ipython",
    "version": 3
   },
   "file_extension": ".py",
   "mimetype": "text/x-python",
   "name": "python",
   "nbconvert_exporter": "python",
   "pygments_lexer": "ipython3",
   "version": "3.9.13"
  }
 },
 "nbformat": 4,
 "nbformat_minor": 2
}
