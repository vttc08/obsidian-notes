{
 "cells": [
  {
   "cell_type": "markdown",
   "metadata": {},
   "source": [
    "Tqdm Progress Bar"
   ]
  },
  {
   "cell_type": "code",
   "execution_count": 8,
   "metadata": {},
   "outputs": [],
   "source": [
    "from tqdm import tqdm, trange\n",
    "import time"
   ]
  },
  {
   "cell_type": "code",
   "execution_count": 4,
   "metadata": {},
   "outputs": [
    {
     "name": "stderr",
     "output_type": "stream",
     "text": [
      "100%|██████████| 100/100 [00:01<00:00, 63.43it/s]\n"
     ]
    }
   ],
   "source": [
    "for _ in tqdm(range(100)):\n",
    "    time.sleep(0.01)\n",
    "    pass"
   ]
  },
  {
   "cell_type": "markdown",
   "metadata": {},
   "source": [
    "tqdm function takes a list or iterable as an argument\n",
    "trange is a tqdm replacement for the range function"
   ]
  },
  {
   "cell_type": "code",
   "execution_count": 11,
   "metadata": {},
   "outputs": [
    {
     "name": "stderr",
     "output_type": "stream",
     "text": [
      "100%|██████████| 5/5 [00:01<00:00,  4.92it/s]\n",
      "100%|██████████| 1000000/1000000 [00:00<00:00, 8937057.33it/s]\n"
     ]
    }
   ],
   "source": [
    "# tqdm looping\n",
    "mylist = [1, 2, 3, 4, 5]\n",
    "for i in tqdm(mylist):\n",
    "    time.sleep(0.2)\n",
    "# trange\n",
    "for i in trange(1000000):\n",
    "    pass"
   ]
  },
  {
   "cell_type": "markdown",
   "metadata": {},
   "source": [
    "total is an argument to tqdm function which is used to specify the total number of iterations\n",
    "other arguments include, description (desc), units(unit)"
   ]
  },
  {
   "cell_type": "code",
   "execution_count": 14,
   "metadata": {},
   "outputs": [
    {
     "name": "stderr",
     "output_type": "stream",
     "text": [
      "My Progress Bar:  62%|██████▎   | 5/8 [00:01<00:00,  4.87item/s]\n"
     ]
    }
   ],
   "source": [
    "for i in tqdm(mylist, total=8, desc=\"My Progress Bar\", unit=\"item\"): # progress bar will not complete\n",
    "    # if the total is less than actual length, the progress bar will show until the total\n",
    "    time.sleep(0.2)"
   ]
  },
  {
   "cell_type": "code",
   "execution_count": 17,
   "metadata": {},
   "outputs": [
    {
     "name": "stderr",
     "output_type": "stream",
     "text": [
      "100%|██████████| 3/3 [00:01<00:00,  1.96it/s]\n",
      "100%|██████████| 3/3 [00:01<00:00,  1.95it/s]\n",
      "100%|██████████| 2/2 [00:03<00:00,  1.54s/it]\n"
     ]
    }
   ],
   "source": [
    "# Nested progress bars\n",
    "for i in trange(2):\n",
    "    for j in trange(3):\n",
    "        time.sleep(0.5)"
   ]
  },
  {
   "cell_type": "markdown",
   "metadata": {},
   "source": [
    "a tqdm object eg. pbar can be created for dynamic progress bar"
   ]
  },
  {
   "cell_type": "code",
   "execution_count": null,
   "metadata": {},
   "outputs": [
    {
     "name": "stderr",
     "output_type": "stream",
     "text": [
      "Processing 19: 100%|██████████| 20/20 [00:02<00:00,  9.12it/s]\n"
     ]
    }
   ],
   "source": [
    "pbar = tqdm(range(20))\n",
    "for i in pbar:\n",
    "    time.sleep(0.1)\n",
    "    pbar.set_description(\"Processing %s\" % i)\n",
    "pbar.close()"
   ]
  },
  {
   "cell_type": "code",
   "execution_count": 37,
   "metadata": {},
   "outputs": [
    {
     "name": "stderr",
     "output_type": "stream",
     "text": [
      "100%|\u001b[33m█████████████████████████████████████████████████████████████\u001b[0m| 100/100 [00:10<00:00,  9.11it/s]\u001b[0m\n"
     ]
    }
   ],
   "source": [
    "import random\n",
    "randomcolor = ['red', 'green', 'yellow', 'blue', 'magenta', 'cyan', 'white']\n",
    "pbar = tqdm(range(100), ncols=100, mininterval=0.5)\n",
    "for i in pbar:\n",
    "    time.sleep(0.1)\n",
    "    pbar.colour = random.choice(randomcolor)"
   ]
  }
 ],
 "metadata": {
  "kernelspec": {
   "display_name": "Python 3",
   "language": "python",
   "name": "python3"
  },
  "language_info": {
   "codemirror_mode": {
    "name": "ipython",
    "version": 3
   },
   "file_extension": ".py",
   "mimetype": "text/x-python",
   "name": "python",
   "nbconvert_exporter": "python",
   "pygments_lexer": "ipython3",
   "version": "3.10.11"
  }
 },
 "nbformat": 4,
 "nbformat_minor": 2
}
