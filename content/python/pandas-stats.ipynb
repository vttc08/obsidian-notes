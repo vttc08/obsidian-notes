{
 "cells": [
  {
   "cell_type": "markdown",
   "metadata": {},
   "source": [
    "### Working with Pandas"
   ]
  },
  {
   "cell_type": "markdown",
   "metadata": {},
   "source": [
    "content of the csv file (file.csv) is as follows:\n",
    "```\n",
    "name,city,happiness(0-10),height(cm),weight(kg)\n",
    "John,Kolkata,7,180,70.45\n",
    "Michael,Delhi,6,170,67.45\n",
    "David,Mumbai,8,160,60.45\n",
    "Sarah,Chennai,9,150,50.45\n",
    "Daniel,Kolkata,7,180,70.45\n",
    "Emily,Delhi,6,170,67.45\n",
    "Olivia,Mumbai,8,160,60.45\n",
    "Ethan,Chennai,9,150,50.45\n",
    "Sophia,Kolkata,7,180,70.45\n",
    "Matthew,Delhi,6,170,67.45\n",
    "Karen,Mumbai,8,160,60.45\n",
    "James,Chennai,9,150,50.45\n",
    "Zoe,Kolkata,7,180,70.45\n",
    "Logan,Delhi,6,170,67.45\n",
    "Hannah,Mumbai,8,160,60.45\n",
    "Liam,Chennai,9,150,50.45\n",
    "Emma,Kolkata,7,180,70.45\n",
    "Ava,Delhi,6,170,67.45\n",
    "Noah,Mumbai,8,160,60.45\n",
    "Mia,Chennai,9,150,50.45\n",
    "Benjamin,Kolkata,7,180,70.45\n",
    "Aria,Delhi,6,170,67.45\n",
    "William,Mumbai,8,160,60.45\n",
    "Grace,Chennai,9,150,50.45\n",
    "```"
   ]
  },
  {
   "cell_type": "code",
   "execution_count": 43,
   "metadata": {},
   "outputs": [],
   "source": [
    "# read csv file\n",
    "import pandas as pd\n",
    "\n",
    "df = pd.read_csv('file.csv')"
   ]
  },
  {
   "cell_type": "code",
   "execution_count": 44,
   "metadata": {},
   "outputs": [
    {
     "data": {
      "text/html": [
       "<div>\n",
       "<style scoped>\n",
       "    .dataframe tbody tr th:only-of-type {\n",
       "        vertical-align: middle;\n",
       "    }\n",
       "\n",
       "    .dataframe tbody tr th {\n",
       "        vertical-align: top;\n",
       "    }\n",
       "\n",
       "    .dataframe thead th {\n",
       "        text-align: right;\n",
       "    }\n",
       "</style>\n",
       "<table border=\"1\" class=\"dataframe\">\n",
       "  <thead>\n",
       "    <tr style=\"text-align: right;\">\n",
       "      <th></th>\n",
       "      <th>happiness(0-10)</th>\n",
       "      <th>height(cm)</th>\n",
       "      <th>weight(kg)</th>\n",
       "    </tr>\n",
       "  </thead>\n",
       "  <tbody>\n",
       "    <tr>\n",
       "      <th>count</th>\n",
       "      <td>24.00000</td>\n",
       "      <td>24.000000</td>\n",
       "      <td>24.000000</td>\n",
       "    </tr>\n",
       "    <tr>\n",
       "      <th>mean</th>\n",
       "      <td>7.50000</td>\n",
       "      <td>165.458333</td>\n",
       "      <td>62.225000</td>\n",
       "    </tr>\n",
       "    <tr>\n",
       "      <th>std</th>\n",
       "      <td>1.14208</td>\n",
       "      <td>11.348163</td>\n",
       "      <td>7.928773</td>\n",
       "    </tr>\n",
       "    <tr>\n",
       "      <th>min</th>\n",
       "      <td>6.00000</td>\n",
       "      <td>147.000000</td>\n",
       "      <td>48.900000</td>\n",
       "    </tr>\n",
       "    <tr>\n",
       "      <th>25%</th>\n",
       "      <td>6.75000</td>\n",
       "      <td>157.250000</td>\n",
       "      <td>57.500000</td>\n",
       "    </tr>\n",
       "    <tr>\n",
       "      <th>50%</th>\n",
       "      <td>7.50000</td>\n",
       "      <td>165.500000</td>\n",
       "      <td>63.400000</td>\n",
       "    </tr>\n",
       "    <tr>\n",
       "      <th>75%</th>\n",
       "      <td>8.25000</td>\n",
       "      <td>174.000000</td>\n",
       "      <td>67.700000</td>\n",
       "    </tr>\n",
       "    <tr>\n",
       "      <th>max</th>\n",
       "      <td>9.00000</td>\n",
       "      <td>183.000000</td>\n",
       "      <td>73.500000</td>\n",
       "    </tr>\n",
       "  </tbody>\n",
       "</table>\n",
       "</div>"
      ],
      "text/plain": [
       "       happiness(0-10)  height(cm)  weight(kg)\n",
       "count         24.00000   24.000000   24.000000\n",
       "mean           7.50000  165.458333   62.225000\n",
       "std            1.14208   11.348163    7.928773\n",
       "min            6.00000  147.000000   48.900000\n",
       "25%            6.75000  157.250000   57.500000\n",
       "50%            7.50000  165.500000   63.400000\n",
       "75%            8.25000  174.000000   67.700000\n",
       "max            9.00000  183.000000   73.500000"
      ]
     },
     "execution_count": 44,
     "metadata": {},
     "output_type": "execute_result"
    }
   ],
   "source": [
    "# describe the data\n",
    "df.describe() # this will describe statistic of all columns with numeric data"
   ]
  },
  {
   "cell_type": "code",
   "execution_count": 45,
   "metadata": {},
   "outputs": [
    {
     "data": {
      "text/plain": [
       "7.5"
      ]
     },
     "execution_count": 45,
     "metadata": {},
     "output_type": "execute_result"
    }
   ],
   "source": [
    "result = df.describe()\n",
    "dict(result)['happiness(0-10)']['std'] # descriptive statistics of columns can be converted as a dict to access its values\n",
    "# better way to access the mean, stdev of a column\n",
    "df['happiness(0-10)'].mean()"
   ]
  },
  {
   "cell_type": "code",
   "execution_count": 46,
   "metadata": {},
   "outputs": [
    {
     "data": {
      "text/plain": [
       "0    Chennai\n",
       "1      Delhi\n",
       "2    Kolkata\n",
       "3     Mumbai\n",
       "Name: city, dtype: object"
      ]
     },
     "execution_count": 46,
     "metadata": {},
     "output_type": "execute_result"
    }
   ],
   "source": [
    "df['happiness(0-10)'].mean()\n",
    "df['happiness(0-10)'].std()\n",
    "df['happiness(0-10)'].median()\n",
    "df['happiness(0-10)'].quantile(0.25) # 25th percentile\n",
    "df['city'].mode() # return most frequent values as a list, use mode()[0] to most common value of dataset\n",
    "# min, max, sum, mean, median, std, var, quantile, mode"
   ]
  },
  {
   "cell_type": "markdown",
   "metadata": {},
   "source": [
    "## Some Examples"
   ]
  },
  {
   "cell_type": "code",
   "execution_count": 47,
   "metadata": {},
   "outputs": [
    {
     "data": {
      "text/plain": [
       "170.25"
      ]
     },
     "execution_count": 47,
     "metadata": {},
     "output_type": "execute_result"
    }
   ],
   "source": [
    "# get average height of people living in both Mumbai and Kolkata\n",
    "df[(df['city'] == 'Mumbai') | (df['city'] == 'Kolkata')]['height(cm)'].mean()"
   ]
  },
  {
   "cell_type": "code",
   "execution_count": 50,
   "metadata": {},
   "outputs": [
    {
     "data": {
      "text/plain": [
       "150.83"
      ]
     },
     "execution_count": 50,
     "metadata": {},
     "output_type": "execute_result"
    }
   ],
   "source": [
    "# the average height of people living in Chennai with weight above 64kg in 2 decimal places\n",
    "df[(df['city'] == 'Chennai') & (df['weight(kg)'] < 64)]['height(cm)'].mean().round(2)"
   ]
  },
  {
   "cell_type": "code",
   "execution_count": 51,
   "metadata": {},
   "outputs": [
    {
     "data": {
      "text/plain": [
       "(8.0, 0.0)"
      ]
     },
     "execution_count": 51,
     "metadata": {},
     "output_type": "execute_result"
    }
   ],
   "source": [
    "# get the mean and stdev of happiness of people living in Mumbai\n",
    "df[df['city'] == 'Mumbai']['happiness(0-10)'].mean(), df[df['city'] == 'Mumbai']['happiness(0-10)'].std()"
   ]
  }
 ],
 "metadata": {
  "kernelspec": {
   "display_name": "Python 3",
   "language": "python",
   "name": "python3"
  },
  "language_info": {
   "codemirror_mode": {
    "name": "ipython",
    "version": 3
   },
   "file_extension": ".py",
   "mimetype": "text/x-python",
   "name": "python",
   "nbconvert_exporter": "python",
   "pygments_lexer": "ipython3",
   "version": "3.9.13"
  }
 },
 "nbformat": 4,
 "nbformat_minor": 2
}
